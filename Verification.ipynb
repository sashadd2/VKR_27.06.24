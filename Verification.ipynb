{
 "cells": [
  {
   "cell_type": "code",
   "execution_count": 1,
   "id": "3a155b8e-7839-4ec3-8bf2-fa5ec601c40e",
   "metadata": {},
   "outputs": [
    {
     "name": "stdout",
     "output_type": "stream",
     "text": [
      "Wed Jun 12 13:06:00 2024       \n",
      "+---------------------------------------------------------------------------------------+\n",
      "| NVIDIA-SMI 537.13                 Driver Version: 537.13       CUDA Version: 12.2     |\n",
      "|-----------------------------------------+----------------------+----------------------+\n",
      "| GPU  Name                     TCC/WDDM  | Bus-Id        Disp.A | Volatile Uncorr. ECC |\n",
      "| Fan  Temp   Perf          Pwr:Usage/Cap |         Memory-Usage | GPU-Util  Compute M. |\n",
      "|                                         |                      |               MIG M. |\n",
      "|=========================================+======================+======================|\n",
      "|   0  NVIDIA GeForce GTX 1650      WDDM  | 00000000:01:00.0 Off |                  N/A |\n",
      "| N/A   47C    P8               5W /  60W |      0MiB /  4096MiB |      0%      Default |\n",
      "|                                         |                      |                  N/A |\n",
      "+-----------------------------------------+----------------------+----------------------+\n",
      "                                                                                         \n",
      "+---------------------------------------------------------------------------------------+\n",
      "| Processes:                                                                            |\n",
      "|  GPU   GI   CI        PID   Type   Process name                            GPU Memory |\n",
      "|        ID   ID                                                             Usage      |\n",
      "|=======================================================================================|\n",
      "|    0   N/A  N/A     22360      C   ...al\\Discord\\app-1.0.9148\\Discord.exe    N/A      |\n",
      "+---------------------------------------------------------------------------------------+\n"
     ]
    }
   ],
   "source": [
    "!nvidia-smi"
   ]
  },
  {
   "cell_type": "code",
   "execution_count": 2,
   "id": "272717c9-bcad-47b9-8a30-1a3d656dab6e",
   "metadata": {},
   "outputs": [
    {
     "name": "stdout",
     "output_type": "stream",
     "text": [
      "Name: torch\n",
      "Version: 2.1.0+cu118\n",
      "Summary: Tensors and Dynamic neural networks in Python with strong GPU acceleration\n",
      "Home-page: https://pytorch.org/\n",
      "Author: PyTorch Team\n",
      "Author-email: packages@pytorch.org\n",
      "License: BSD-3\n",
      "Location: C:\\Users\\sasha\\AppData\\Local\\Packages\\PythonSoftwareFoundation.Python.3.11_qbz5n2kfra8p0\\LocalCache\\local-packages\\Python311\\site-packages\n",
      "Requires: filelock, fsspec, jinja2, networkx, sympy, typing-extensions\n",
      "Required-by: asteroid-filterbanks, julius, lightning, pyannote.audio, pytorch-lightning, pytorch-metric-learning, speechbrain, torch-audiomentations, torch-pitch-shift, torchaudio, torchmetrics, torchvision, voicefixer\n"
     ]
    }
   ],
   "source": [
    "!pip show torch                     "
   ]
  },
  {
   "cell_type": "code",
   "execution_count": 5,
   "id": "86b53167-d3d8-4ca7-87b7-f43e87fd65c8",
   "metadata": {},
   "outputs": [
    {
     "data": {
      "text/plain": [
       "'2.1.0+cu118'"
      ]
     },
     "execution_count": 5,
     "metadata": {},
     "output_type": "execute_result"
    }
   ],
   "source": [
    "torch.__version__"
   ]
  },
  {
   "cell_type": "code",
   "execution_count": 4,
   "id": "b02c224c-e2bf-4aac-a3c5-327c8641770f",
   "metadata": {},
   "outputs": [
    {
     "data": {
      "text/plain": [
       "True"
      ]
     },
     "execution_count": 4,
     "metadata": {},
     "output_type": "execute_result"
    }
   ],
   "source": [
    "import torch\n",
    "import torchvision\n",
    "torch.cuda.is_available()"
   ]
  },
  {
   "cell_type": "code",
   "execution_count": 6,
   "id": "ee2a19a4-adc0-4b19-a46d-dbfa479e25a0",
   "metadata": {},
   "outputs": [
    {
     "name": "stdout",
     "output_type": "stream",
     "text": [
      "Looking in indexes: https://pypi.org/simple, https://pypi.ngc.nvidia.com\n",
      "Requirement already satisfied: speechbrain in c:\\users\\sasha\\appdata\\local\\packages\\pythonsoftwarefoundation.python.3.11_qbz5n2kfra8p0\\localcache\\local-packages\\python311\\site-packages (1.0.0)\n",
      "Requirement already satisfied: hyperpyyaml in c:\\users\\sasha\\appdata\\local\\packages\\pythonsoftwarefoundation.python.3.11_qbz5n2kfra8p0\\localcache\\local-packages\\python311\\site-packages (from speechbrain) (1.2.2)\n",
      "Requirement already satisfied: joblib in c:\\users\\sasha\\appdata\\local\\packages\\pythonsoftwarefoundation.python.3.11_qbz5n2kfra8p0\\localcache\\local-packages\\python311\\site-packages (from speechbrain) (1.3.2)\n",
      "Requirement already satisfied: numpy in c:\\users\\sasha\\appdata\\local\\packages\\pythonsoftwarefoundation.python.3.11_qbz5n2kfra8p0\\localcache\\local-packages\\python311\\site-packages (from speechbrain) (1.26.1)\n",
      "Requirement already satisfied: packaging in c:\\users\\sasha\\appdata\\local\\packages\\pythonsoftwarefoundation.python.3.11_qbz5n2kfra8p0\\localcache\\local-packages\\python311\\site-packages (from speechbrain) (23.2)\n",
      "Requirement already satisfied: scipy in c:\\users\\sasha\\appdata\\local\\packages\\pythonsoftwarefoundation.python.3.11_qbz5n2kfra8p0\\localcache\\local-packages\\python311\\site-packages (from speechbrain) (1.11.3)\n",
      "Requirement already satisfied: sentencepiece in c:\\users\\sasha\\appdata\\local\\packages\\pythonsoftwarefoundation.python.3.11_qbz5n2kfra8p0\\localcache\\local-packages\\python311\\site-packages (from speechbrain) (0.1.99)\n",
      "Requirement already satisfied: torch>=1.9 in c:\\users\\sasha\\appdata\\local\\packages\\pythonsoftwarefoundation.python.3.11_qbz5n2kfra8p0\\localcache\\local-packages\\python311\\site-packages (from speechbrain) (2.1.0+cu118)\n",
      "Requirement already satisfied: torchaudio in c:\\users\\sasha\\appdata\\local\\packages\\pythonsoftwarefoundation.python.3.11_qbz5n2kfra8p0\\localcache\\local-packages\\python311\\site-packages (from speechbrain) (2.1.0+cu118)\n",
      "Requirement already satisfied: tqdm in c:\\users\\sasha\\appdata\\local\\packages\\pythonsoftwarefoundation.python.3.11_qbz5n2kfra8p0\\localcache\\local-packages\\python311\\site-packages (from speechbrain) (4.66.1)\n",
      "Requirement already satisfied: huggingface-hub in c:\\users\\sasha\\appdata\\local\\packages\\pythonsoftwarefoundation.python.3.11_qbz5n2kfra8p0\\localcache\\local-packages\\python311\\site-packages (from speechbrain) (0.18.0)\n",
      "Requirement already satisfied: filelock in c:\\users\\sasha\\appdata\\local\\packages\\pythonsoftwarefoundation.python.3.11_qbz5n2kfra8p0\\localcache\\local-packages\\python311\\site-packages (from torch>=1.9->speechbrain) (3.13.0)\n",
      "Requirement already satisfied: typing-extensions in c:\\users\\sasha\\appdata\\local\\packages\\pythonsoftwarefoundation.python.3.11_qbz5n2kfra8p0\\localcache\\local-packages\\python311\\site-packages (from torch>=1.9->speechbrain) (4.8.0)\n",
      "Requirement already satisfied: sympy in c:\\users\\sasha\\appdata\\local\\packages\\pythonsoftwarefoundation.python.3.11_qbz5n2kfra8p0\\localcache\\local-packages\\python311\\site-packages (from torch>=1.9->speechbrain) (1.12)\n",
      "Requirement already satisfied: networkx in c:\\users\\sasha\\appdata\\local\\packages\\pythonsoftwarefoundation.python.3.11_qbz5n2kfra8p0\\localcache\\local-packages\\python311\\site-packages (from torch>=1.9->speechbrain) (3.2.1)\n",
      "Requirement already satisfied: jinja2 in c:\\users\\sasha\\appdata\\local\\packages\\pythonsoftwarefoundation.python.3.11_qbz5n2kfra8p0\\localcache\\local-packages\\python311\\site-packages (from torch>=1.9->speechbrain) (3.1.2)\n",
      "Requirement already satisfied: fsspec in c:\\users\\sasha\\appdata\\local\\packages\\pythonsoftwarefoundation.python.3.11_qbz5n2kfra8p0\\localcache\\local-packages\\python311\\site-packages (from torch>=1.9->speechbrain) (2023.10.0)\n",
      "Requirement already satisfied: requests in c:\\users\\sasha\\appdata\\local\\packages\\pythonsoftwarefoundation.python.3.11_qbz5n2kfra8p0\\localcache\\local-packages\\python311\\site-packages (from huggingface-hub->speechbrain) (2.31.0)\n",
      "Requirement already satisfied: pyyaml>=5.1 in c:\\users\\sasha\\appdata\\local\\packages\\pythonsoftwarefoundation.python.3.11_qbz5n2kfra8p0\\localcache\\local-packages\\python311\\site-packages (from huggingface-hub->speechbrain) (6.0.1)\n",
      "Requirement already satisfied: colorama in c:\\users\\sasha\\appdata\\local\\packages\\pythonsoftwarefoundation.python.3.11_qbz5n2kfra8p0\\localcache\\local-packages\\python311\\site-packages (from tqdm->speechbrain) (0.4.6)\n",
      "Requirement already satisfied: ruamel.yaml>=0.17.28 in c:\\users\\sasha\\appdata\\local\\packages\\pythonsoftwarefoundation.python.3.11_qbz5n2kfra8p0\\localcache\\local-packages\\python311\\site-packages (from hyperpyyaml->speechbrain) (0.18.3)\n",
      "Requirement already satisfied: ruamel.yaml.clib>=0.2.7 in c:\\users\\sasha\\appdata\\local\\packages\\pythonsoftwarefoundation.python.3.11_qbz5n2kfra8p0\\localcache\\local-packages\\python311\\site-packages (from ruamel.yaml>=0.17.28->hyperpyyaml->speechbrain) (0.2.8)\n",
      "Requirement already satisfied: MarkupSafe>=2.0 in c:\\users\\sasha\\appdata\\local\\packages\\pythonsoftwarefoundation.python.3.11_qbz5n2kfra8p0\\localcache\\local-packages\\python311\\site-packages (from jinja2->torch>=1.9->speechbrain) (2.1.3)\n",
      "Requirement already satisfied: charset-normalizer<4,>=2 in c:\\users\\sasha\\appdata\\local\\packages\\pythonsoftwarefoundation.python.3.11_qbz5n2kfra8p0\\localcache\\local-packages\\python311\\site-packages (from requests->huggingface-hub->speechbrain) (3.3.1)\n",
      "Requirement already satisfied: idna<4,>=2.5 in c:\\users\\sasha\\appdata\\local\\packages\\pythonsoftwarefoundation.python.3.11_qbz5n2kfra8p0\\localcache\\local-packages\\python311\\site-packages (from requests->huggingface-hub->speechbrain) (3.4)\n",
      "Requirement already satisfied: urllib3<3,>=1.21.1 in c:\\users\\sasha\\appdata\\local\\packages\\pythonsoftwarefoundation.python.3.11_qbz5n2kfra8p0\\localcache\\local-packages\\python311\\site-packages (from requests->huggingface-hub->speechbrain) (2.0.7)\n",
      "Requirement already satisfied: certifi>=2017.4.17 in c:\\users\\sasha\\appdata\\local\\packages\\pythonsoftwarefoundation.python.3.11_qbz5n2kfra8p0\\localcache\\local-packages\\python311\\site-packages (from requests->huggingface-hub->speechbrain) (2023.7.22)\n",
      "Requirement already satisfied: mpmath>=0.19 in c:\\users\\sasha\\appdata\\local\\packages\\pythonsoftwarefoundation.python.3.11_qbz5n2kfra8p0\\localcache\\local-packages\\python311\\site-packages (from sympy->torch>=1.9->speechbrain) (1.3.0)\n"
     ]
    },
    {
     "name": "stderr",
     "output_type": "stream",
     "text": [
      "DEPRECATION: voicefixer 0.1.2 has a non-standard dependency specifier streamlit>=1.12.0pyyaml. pip 24.1 will enforce this behaviour change. A possible replacement is to upgrade to a newer version of voicefixer or contact the author to suggest that they release a version with a conforming dependency specifiers. Discussion can be found at https://github.com/pypa/pip/issues/12063\n"
     ]
    }
   ],
   "source": [
    "# for speechbrain\n",
    "!pip install speechbrain"
   ]
  },
  {
   "cell_type": "code",
   "execution_count": 1,
   "id": "b027ff5b-69f2-4050-b22d-8e0186d6200d",
   "metadata": {},
   "outputs": [
    {
     "name": "stderr",
     "output_type": "stream",
     "text": [
      "C:\\Users\\sasha\\AppData\\Local\\Temp\\ipykernel_6828\\2426196524.py:12: DeprecationWarning: Importing display from IPython.core.display is deprecated since IPython 7.14, please import from IPython display\n",
      "  from IPython.core.display import display\n"
     ]
    }
   ],
   "source": [
    "import glob, sys, os\n",
    "import torch\n",
    "import torchaudio\n",
    "import datetime\n",
    "import time\n",
    "\n",
    "from speechbrain.inference.speaker import EncoderClassifier\n",
    "from speechbrain.inference.speaker import SpeakerRecognition\n",
    "from speechbrain.dataio.dataio import read_audio\n",
    "\n",
    "from IPython.display import Audio\n",
    "from IPython.core.display import display\n",
    "\n",
    "mainPath = \"C:/Users/sasha/OneDrive/Desktop/НИР/New Research/\"\n",
    "filesDirStr = \"audio/normalized/\"\n",
    "diarDirStr = \"DIARIZED/\"\n",
    "directory_files = os.listdir(mainPath + filesDirStr)\n",
    "\n",
    "classifier = EncoderClassifier.from_hparams(\n",
    "    source=\"speechbrain/spkrec-ecapa-voxceleb\",\n",
    "    run_opts={\"device\":\"cuda\"}\n",
    ")\n",
    "\n",
    "verification = SpeakerRecognition.from_hparams(\n",
    "    source=\"speechbrain/spkrec-ecapa-voxceleb\", \n",
    "    savedir=\"pretrained_models/spkrec-ecapa-voxceleb\",\n",
    "    run_opts={\"device\":\"cuda\"}\n",
    ")"
   ]
  },
  {
   "cell_type": "code",
   "execution_count": 8,
   "id": "29bf4dfb-d8de-45d7-9c19-1b34a994c17a",
   "metadata": {},
   "outputs": [],
   "source": [
    "signal, fs =torchaudio.load('crop/cropped_26.wav')\n",
    "embeddings = classifier.encode_batch(signal)"
   ]
  },
  {
   "cell_type": "code",
   "execution_count": 9,
   "id": "81847981-6d40-4802-9eed-0c27c92b8931",
   "metadata": {},
   "outputs": [
    {
     "data": {
      "text/plain": [
       "tensor([[[-1.9380e-02,  3.0706e+01,  2.2569e+01,  5.9332e+01,  3.8626e+01,\n",
       "          -1.9002e+01,  1.7530e+01, -4.0895e+01, -1.3109e+01,  4.7168e+01,\n",
       "           3.2112e+01, -1.9866e+01, -6.6278e+00, -1.0385e-01,  1.8676e+00,\n",
       "           4.1389e+01, -3.3645e+01, -1.1382e+01, -2.2341e+01, -8.5532e+00,\n",
       "          -2.0340e+00, -2.2534e+00,  4.8953e+01, -4.5579e+01,  6.1981e+01,\n",
       "          -1.8870e+01,  4.1021e+00, -1.2192e+01,  2.8792e+01, -2.8256e+01,\n",
       "           1.6450e+01, -5.1843e+00, -1.4622e+00, -2.5863e-01, -2.4596e+01,\n",
       "           4.7623e+01, -1.0409e+01, -1.2755e+01,  2.7347e+01,  5.5914e+00,\n",
       "          -6.0047e+00, -1.4605e+00, -3.7805e+00, -3.1187e+01,  9.6471e+00,\n",
       "          -2.4314e+01,  4.2479e+01,  5.6290e+01,  2.6818e+01,  1.2368e+01,\n",
       "          -2.0944e+01,  2.4115e+01, -2.3315e+01, -1.4356e+01,  1.9343e+01,\n",
       "          -1.4928e+01,  1.2851e+01, -2.2698e+01, -7.2044e+00,  1.7718e+01,\n",
       "          -1.0522e+01, -1.9324e+01, -5.2056e+01, -1.8699e+01, -1.9938e+01,\n",
       "          -2.8576e+01,  4.9549e+01, -3.6184e+01, -2.4676e+01, -4.1697e+01,\n",
       "           3.8103e+01,  5.5029e+01, -2.0323e+01, -2.1068e+01, -3.3836e+01,\n",
       "          -1.3298e+01, -1.2797e+01,  2.4865e+01,  3.7947e+01, -2.4837e+01,\n",
       "           5.4306e+01, -2.5208e+01,  1.1791e+01,  3.1916e+01,  2.7115e+01,\n",
       "           3.6034e+01,  1.0332e+01,  2.0793e+01, -3.9474e+01,  1.7133e+01,\n",
       "           2.1617e+01,  2.3066e+01,  6.6764e+01, -2.0637e+01,  3.1421e+01,\n",
       "           1.7829e+01, -9.1154e+00,  1.7703e+01, -3.4047e+01,  1.9790e+01,\n",
       "           1.8398e+01, -3.2444e+00,  4.9368e+01, -4.0391e+01,  3.1626e+00,\n",
       "          -4.4612e+01,  4.2574e+01, -2.6207e+01,  4.6361e+01, -1.6192e+01,\n",
       "          -7.1974e+00, -1.7765e+01, -1.2698e+01, -1.9157e+00,  5.5292e+00,\n",
       "          -2.9179e+01, -3.4040e+01,  7.7257e+00,  2.0622e+01,  2.5593e+00,\n",
       "          -8.8027e+00, -1.5823e+01, -4.7421e+01,  9.7045e+00, -4.9113e-01,\n",
       "          -3.0215e+01, -4.8979e+00,  2.7024e+01, -2.8238e+01, -3.1875e+00,\n",
       "           7.6411e+00, -2.0613e+01, -5.9630e+00, -9.5774e+00, -2.4261e+01,\n",
       "           7.9899e+00,  2.2257e+01,  2.1992e+01, -3.1819e+01, -4.8724e+00,\n",
       "          -3.5484e+01, -8.9135e+01, -1.1316e+01, -5.5258e+01, -1.7193e+01,\n",
       "           2.5153e+01,  3.6060e+01, -5.7924e+00,  1.4249e+00,  3.5973e+01,\n",
       "          -8.2283e+00,  8.5782e-01,  2.7254e+01,  2.0136e+01,  1.6111e+01,\n",
       "          -2.3823e+01, -1.0161e-01, -2.3889e+01, -2.3565e+00, -4.9054e+00,\n",
       "           9.9603e-01,  1.4875e+01,  2.7927e-01,  3.8254e+01,  4.3071e+01,\n",
       "          -2.8156e+01, -2.3169e+00,  2.9302e+01, -6.1788e+00, -3.4610e+01,\n",
       "          -3.2372e+01,  9.5425e+00, -2.1959e+01,  1.8390e+01, -3.3487e+01,\n",
       "           3.6225e+00,  1.1247e+01,  1.3349e+01, -7.1736e+00,  1.9621e+01,\n",
       "          -1.7039e+01, -1.7335e+01,  1.5555e+01,  1.8661e+01,  2.8318e+01,\n",
       "          -1.7779e+01, -9.6168e+00, -3.8169e+01,  4.1317e+01,  5.6999e+01,\n",
       "          -1.1062e+01,  3.0837e+01]]], device='cuda:0')"
      ]
     },
     "execution_count": 9,
     "metadata": {},
     "output_type": "execute_result"
    }
   ],
   "source": [
    "embeddings"
   ]
  },
  {
   "cell_type": "code",
   "execution_count": 2,
   "id": "68768629-aa94-45fb-ad99-27673280536a",
   "metadata": {},
   "outputs": [],
   "source": [
    "signal1, fs1 = torchaudio.load('crop/interviewer1.wav')\n"
   ]
  },
  {
   "cell_type": "code",
   "execution_count": 3,
   "id": "3e2f5f62-7db4-4a4a-947f-079dea89d283",
   "metadata": {},
   "outputs": [
    {
     "name": "stdout",
     "output_type": "stream",
     "text": [
      "Score: tensor([[-0.0453]], device='cuda:0')\n",
      "Prediction: tensor([[False]], device='cuda:0')\n"
     ]
    }
   ],
   "source": [
    "#score, prediction = verification.verify_files(\".wav\", \".wav\")\n",
    "signal2, fs2 = torchaudio.load('crop/cropped_27.wav')\n",
    "score, prediction = verification.verify_batch(signal1, signal2)\n",
    "print(f\"Score: {score}\\nPrediction: {prediction}\")"
   ]
  },
  {
   "cell_type": "code",
   "execution_count": 12,
   "id": "22571fc8-8317-4ee4-81ff-169b0eaa5b18",
   "metadata": {},
   "outputs": [
    {
     "name": "stdout",
     "output_type": "stream",
     "text": [
      "Score: tensor([[0.5027]], device='cuda:0')\n",
      "Prediction: tensor([[True]], device='cuda:0')\n"
     ]
    }
   ],
   "source": [
    "print(f\"Score: {score}\\nPrediction: {prediction}\")"
   ]
  },
  {
   "cell_type": "code",
   "execution_count": null,
   "id": "2ef94f11-059e-4ca3-9331-72630bbaadae",
   "metadata": {},
   "outputs": [],
   "source": []
  }
 ],
 "metadata": {
  "kernelspec": {
   "display_name": "Python 3 (ipykernel)",
   "language": "python",
   "name": "python3"
  },
  "language_info": {
   "codemirror_mode": {
    "name": "ipython",
    "version": 3
   },
   "file_extension": ".py",
   "mimetype": "text/x-python",
   "name": "python",
   "nbconvert_exporter": "python",
   "pygments_lexer": "ipython3",
   "version": "3.11.9"
  }
 },
 "nbformat": 4,
 "nbformat_minor": 5
}
