{
 "cells": [
  {
   "cell_type": "code",
   "execution_count": 1,
   "id": "eba45c37-c53e-4136-ae82-e9fcbd48601b",
   "metadata": {},
   "outputs": [
    {
     "name": "stdout",
     "output_type": "stream",
     "text": [
      "Looking in indexes: https://pypi.org/simple, https://pypi.ngc.nvidia.com\n",
      "Requirement already satisfied: pydub in c:\\users\\sasha\\appdata\\local\\packages\\pythonsoftwarefoundation.python.3.11_qbz5n2kfra8p0\\localcache\\local-packages\\python311\\site-packages (0.25.1)\n"
     ]
    },
    {
     "name": "stderr",
     "output_type": "stream",
     "text": [
      "DEPRECATION: voicefixer 0.1.2 has a non-standard dependency specifier streamlit>=1.12.0pyyaml. pip 24.1 will enforce this behaviour change. A possible replacement is to upgrade to a newer version of voicefixer or contact the author to suggest that they release a version with a conforming dependency specifiers. Discussion can be found at https://github.com/pypa/pip/issues/12063\n"
     ]
    }
   ],
   "source": [
    "!pip install pydub"
   ]
  },
  {
   "cell_type": "code",
   "execution_count": 20,
   "id": "b13d602b-a2c9-4ea4-8525-c9ee2e7fded4",
   "metadata": {},
   "outputs": [],
   "source": [
    "from pydub import AudioSegment\n",
    "\n",
    "def crop_audio(audio_path, rttm_path, output_path):\n",
    "    audio = AudioSegment.from_file(audio_path)\n",
    "\n",
    "    with open(rttm_path, 'r') as file:\n",
    "        lines = file.readlines()\n",
    "\n",
    "    for i, line in enumerate(lines):\n",
    "        parts = line.strip().split()\n",
    "        if parts[7] == \"SPEAKER_00\" or parts[7] == \"Interviewer\":\n",
    "            start_time = float(parts[3]) * 1000  # convert to milliseconds\n",
    "            duration = float(parts[4]) * 1000  # convert to milliseconds\n",
    "            end_time = start_time + duration\n",
    "\n",
    "            if duration > 2000 and duration < 5000:\n",
    "                cropped_audio = audio[start_time:end_time]\n",
    "                cropped_audio.export(f\"{output_path}/cropped_{i}.wav\", format=\"wav\")\n",
    "\n",
    "# Usage\n",
    "crop_audio(\"audio/default/1.wav\", \"diarization/Reference/1.rttm\", \"crop\")"
   ]
  },
  {
   "cell_type": "code",
   "execution_count": null,
   "id": "ba7e7805-0750-4fed-bb69-c56dfd32fbfe",
   "metadata": {},
   "outputs": [],
   "source": []
  },
  {
   "cell_type": "code",
   "execution_count": null,
   "id": "da6572f1-8f88-4884-a404-377a60d524f6",
   "metadata": {},
   "outputs": [],
   "source": []
  }
 ],
 "metadata": {
  "kernelspec": {
   "display_name": "Python 3 (ipykernel)",
   "language": "python",
   "name": "python3"
  },
  "language_info": {
   "codemirror_mode": {
    "name": "ipython",
    "version": 3
   },
   "file_extension": ".py",
   "mimetype": "text/x-python",
   "name": "python",
   "nbconvert_exporter": "python",
   "pygments_lexer": "ipython3",
   "version": "3.11.9"
  }
 },
 "nbformat": 4,
 "nbformat_minor": 5
}
